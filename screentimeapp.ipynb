{
 "cells": [
  {
   "cell_type": "markdown",
   "id": "78db0f2c-8017-4e92-9d05-7d9455e1f0b1",
   "metadata": {},
   "source": [
    "# App usage analyser (with privacy insights)"
   ]
  },
  {
   "cell_type": "markdown",
   "id": "c0299d4b-e250-45ec-a503-74cc3131443d",
   "metadata": {},
   "source": [
    "### Mini - Project (Team 3 - Chandhna and Harish)"
   ]
  },
  {
   "cell_type": "markdown",
   "id": "bc95cf75-a9ea-4dfc-a2ed-5b05b86f5098",
   "metadata": {},
   "source": [
    "#### Objectives:\n",
    "This project analyses mobile app usage data to gain insights into:\n",
    "- time spent on each app\n",
    "- app categories (eg; social and productivity)\n",
    "- permissions used by each app\n",
    "- identifying apps with high privacy risk based on permissions and usage time"
   ]
  },
  {
   "cell_type": "markdown",
   "id": "691e8ba2-9b37-4cd9-a637-dd57165cfe33",
   "metadata": {},
   "source": [
    "### Libraries used:\n",
    "In this project we have used mainly 2 libraries:\n",
    "- 'Pandas' for data handling\n",
    "- 'Matplotlib' and 'plotly' for visualizations"
   ]
  },
  {
   "cell_type": "markdown",
   "id": "65a1d537-20ad-487a-a47a-3a2485747267",
   "metadata": {},
   "source": [
    "### CODE:"
   ]
  },
  {
   "cell_type": "code",
   "execution_count": 2,
   "id": "b41076c5-76c3-43da-a6d4-0ce65f10531f",
   "metadata": {},
   "outputs": [],
   "source": [
    "import pandas as pd"
   ]
  },
  {
   "cell_type": "code",
   "execution_count": 3,
   "id": "0dc95af9-ec15-4da3-b693-2dbdccdc8159",
   "metadata": {},
   "outputs": [],
   "source": [
    "import matplotlib.pyplot as plt"
   ]
  },
  {
   "cell_type": "code",
   "execution_count": 4,
   "id": "26c34253-d587-4853-bb74-6c0038c137c0",
   "metadata": {},
   "outputs": [],
   "source": [
    "import plotly.express as px"
   ]
  },
  {
   "cell_type": "code",
   "execution_count": 5,
   "id": "be9407de-cb86-4ccb-b13e-32fc4c488ae8",
   "metadata": {},
   "outputs": [],
   "source": [
    "import random"
   ]
  },
  {
   "cell_type": "code",
   "execution_count": 12,
   "id": "aef5d781-ce7c-4ab6-b9e2-1865e09a3168",
   "metadata": {},
   "outputs": [
    {
     "data": {
      "text/html": [
       "<div>\n",
       "<style scoped>\n",
       "    .dataframe tbody tr th:only-of-type {\n",
       "        vertical-align: middle;\n",
       "    }\n",
       "\n",
       "    .dataframe tbody tr th {\n",
       "        vertical-align: top;\n",
       "    }\n",
       "\n",
       "    .dataframe thead th {\n",
       "        text-align: right;\n",
       "    }\n",
       "</style>\n",
       "<table border=\"1\" class=\"dataframe\">\n",
       "  <thead>\n",
       "    <tr style=\"text-align: right;\">\n",
       "      <th></th>\n",
       "      <th>App Name</th>\n",
       "      <th>Category</th>\n",
       "      <th>Time Spent (mins)</th>\n",
       "      <th>Permissions Used</th>\n",
       "    </tr>\n",
       "  </thead>\n",
       "  <tbody>\n",
       "    <tr>\n",
       "      <th>0</th>\n",
       "      <td>WhatsApp</td>\n",
       "      <td>Social</td>\n",
       "      <td>167</td>\n",
       "      <td>Storage, Location, Camera, Contacts, SMS</td>\n",
       "    </tr>\n",
       "    <tr>\n",
       "      <th>1</th>\n",
       "      <td>YouTube</td>\n",
       "      <td>Entertainment</td>\n",
       "      <td>199</td>\n",
       "      <td>Location, Storage, Contacts, Camera, SMS</td>\n",
       "    </tr>\n",
       "    <tr>\n",
       "      <th>2</th>\n",
       "      <td>Instagram</td>\n",
       "      <td>Social</td>\n",
       "      <td>280</td>\n",
       "      <td>Camera, Microphone</td>\n",
       "    </tr>\n",
       "    <tr>\n",
       "      <th>3</th>\n",
       "      <td>Google Maps</td>\n",
       "      <td>Navigation</td>\n",
       "      <td>67</td>\n",
       "      <td>Camera, Microphone</td>\n",
       "    </tr>\n",
       "    <tr>\n",
       "      <th>4</th>\n",
       "      <td>Zoom</td>\n",
       "      <td>Productivity</td>\n",
       "      <td>112</td>\n",
       "      <td>SMS, Location, Contacts</td>\n",
       "    </tr>\n",
       "    <tr>\n",
       "      <th>5</th>\n",
       "      <td>Gmail</td>\n",
       "      <td>Productivity</td>\n",
       "      <td>184</td>\n",
       "      <td>Contacts, Location, SMS</td>\n",
       "    </tr>\n",
       "    <tr>\n",
       "      <th>6</th>\n",
       "      <td>TikTok</td>\n",
       "      <td>Entertainment</td>\n",
       "      <td>264</td>\n",
       "      <td>Camera, Contacts, Storage, SMS, Microphone</td>\n",
       "    </tr>\n",
       "    <tr>\n",
       "      <th>7</th>\n",
       "      <td>Facebook</td>\n",
       "      <td>Social</td>\n",
       "      <td>86</td>\n",
       "      <td>Location, SMS</td>\n",
       "    </tr>\n",
       "    <tr>\n",
       "      <th>8</th>\n",
       "      <td>Spotify</td>\n",
       "      <td>Entertainment</td>\n",
       "      <td>94</td>\n",
       "      <td>Camera, Contacts, Storage, Location</td>\n",
       "    </tr>\n",
       "    <tr>\n",
       "      <th>9</th>\n",
       "      <td>Google Drive</td>\n",
       "      <td>Productivity</td>\n",
       "      <td>252</td>\n",
       "      <td>Contacts, Location, Microphone, Storage, Camera</td>\n",
       "    </tr>\n",
       "  </tbody>\n",
       "</table>\n",
       "</div>"
      ],
      "text/plain": [
       "       App Name       Category  Time Spent (mins)  \\\n",
       "0      WhatsApp         Social                167   \n",
       "1       YouTube  Entertainment                199   \n",
       "2     Instagram         Social                280   \n",
       "3   Google Maps     Navigation                 67   \n",
       "4          Zoom   Productivity                112   \n",
       "5         Gmail   Productivity                184   \n",
       "6        TikTok  Entertainment                264   \n",
       "7      Facebook         Social                 86   \n",
       "8       Spotify  Entertainment                 94   \n",
       "9  Google Drive   Productivity                252   \n",
       "\n",
       "                                  Permissions Used  \n",
       "0         Storage, Location, Camera, Contacts, SMS  \n",
       "1         Location, Storage, Contacts, Camera, SMS  \n",
       "2                               Camera, Microphone  \n",
       "3                               Camera, Microphone  \n",
       "4                          SMS, Location, Contacts  \n",
       "5                          Contacts, Location, SMS  \n",
       "6       Camera, Contacts, Storage, SMS, Microphone  \n",
       "7                                    Location, SMS  \n",
       "8              Camera, Contacts, Storage, Location  \n",
       "9  Contacts, Location, Microphone, Storage, Camera  "
      ]
     },
     "execution_count": 12,
     "metadata": {},
     "output_type": "execute_result"
    }
   ],
   "source": [
    "apps = [\n",
    "    (\"WhatsApp\", \"Social\"),\n",
    "    (\"YouTube\", \"Entertainment\"),\n",
    "    (\"Instagram\", \"Social\"),\n",
    "    (\"Google Maps\", \"Navigation\"),\n",
    "    (\"Zoom\", \"Productivity\"),\n",
    "    (\"Gmail\", \"Productivity\"),\n",
    "    (\"TikTok\", \"Entertainment\"),\n",
    "    (\"Facebook\", \"Social\"),\n",
    "    (\"Spotify\", \"Entertainment\"),\n",
    "    (\"Google Drive\", \"Productivity\"),\n",
    "]\n",
    "\n",
    "permissions_list = [\"Camera\", \"Location\", \"Contacts\", \"Microphone\", \"Storage\", \"SMS\"]\n",
    "\n",
    "data = []\n",
    "for app, category in apps:\n",
    "    time_spent = random.randint(20, 300)\n",
    "    permissions = random.sample(permissions_list, random.randint(2, 5))\n",
    "    data.append({\n",
    "        \"App Name\": app,\n",
    "        \"Category\": category,\n",
    "        \"Time Spent (mins)\": time_spent,\n",
    "        \"Permissions Used\": \", \".join(permissions)\n",
    "    })\n",
    "\n",
    "df = pd.DataFrame(data)\n",
    "df.head(10)\n"
   ]
  },
  {
   "cell_type": "code",
   "execution_count": 13,
   "id": "27794389-b83e-406d-9f7e-d8a68eaaab4b",
   "metadata": {},
   "outputs": [
    {
     "data": {
      "text/html": [
       "<div>\n",
       "<style scoped>\n",
       "    .dataframe tbody tr th:only-of-type {\n",
       "        vertical-align: middle;\n",
       "    }\n",
       "\n",
       "    .dataframe tbody tr th {\n",
       "        vertical-align: top;\n",
       "    }\n",
       "\n",
       "    .dataframe thead th {\n",
       "        text-align: right;\n",
       "    }\n",
       "</style>\n",
       "<table border=\"1\" class=\"dataframe\">\n",
       "  <thead>\n",
       "    <tr style=\"text-align: right;\">\n",
       "      <th></th>\n",
       "      <th>App Name</th>\n",
       "      <th>Category</th>\n",
       "      <th>Time Spent (mins)</th>\n",
       "      <th>Permissions Used</th>\n",
       "      <th>Permission Count</th>\n",
       "      <th>Privacy Risk Level</th>\n",
       "    </tr>\n",
       "  </thead>\n",
       "  <tbody>\n",
       "    <tr>\n",
       "      <th>0</th>\n",
       "      <td>WhatsApp</td>\n",
       "      <td>Social</td>\n",
       "      <td>167</td>\n",
       "      <td>Storage, Location, Camera, Contacts, SMS</td>\n",
       "      <td>5</td>\n",
       "      <td>Medium</td>\n",
       "    </tr>\n",
       "    <tr>\n",
       "      <th>1</th>\n",
       "      <td>YouTube</td>\n",
       "      <td>Entertainment</td>\n",
       "      <td>199</td>\n",
       "      <td>Location, Storage, Contacts, Camera, SMS</td>\n",
       "      <td>5</td>\n",
       "      <td>Medium</td>\n",
       "    </tr>\n",
       "    <tr>\n",
       "      <th>2</th>\n",
       "      <td>Instagram</td>\n",
       "      <td>Social</td>\n",
       "      <td>280</td>\n",
       "      <td>Camera, Microphone</td>\n",
       "      <td>2</td>\n",
       "      <td>Low</td>\n",
       "    </tr>\n",
       "    <tr>\n",
       "      <th>3</th>\n",
       "      <td>Google Maps</td>\n",
       "      <td>Navigation</td>\n",
       "      <td>67</td>\n",
       "      <td>Camera, Microphone</td>\n",
       "      <td>2</td>\n",
       "      <td>Low</td>\n",
       "    </tr>\n",
       "    <tr>\n",
       "      <th>4</th>\n",
       "      <td>Zoom</td>\n",
       "      <td>Productivity</td>\n",
       "      <td>112</td>\n",
       "      <td>SMS, Location, Contacts</td>\n",
       "      <td>3</td>\n",
       "      <td>Medium</td>\n",
       "    </tr>\n",
       "    <tr>\n",
       "      <th>5</th>\n",
       "      <td>Gmail</td>\n",
       "      <td>Productivity</td>\n",
       "      <td>184</td>\n",
       "      <td>Contacts, Location, SMS</td>\n",
       "      <td>3</td>\n",
       "      <td>Medium</td>\n",
       "    </tr>\n",
       "    <tr>\n",
       "      <th>6</th>\n",
       "      <td>TikTok</td>\n",
       "      <td>Entertainment</td>\n",
       "      <td>264</td>\n",
       "      <td>Camera, Contacts, Storage, SMS, Microphone</td>\n",
       "      <td>5</td>\n",
       "      <td>High</td>\n",
       "    </tr>\n",
       "    <tr>\n",
       "      <th>7</th>\n",
       "      <td>Facebook</td>\n",
       "      <td>Social</td>\n",
       "      <td>86</td>\n",
       "      <td>Location, SMS</td>\n",
       "      <td>2</td>\n",
       "      <td>Low</td>\n",
       "    </tr>\n",
       "    <tr>\n",
       "      <th>8</th>\n",
       "      <td>Spotify</td>\n",
       "      <td>Entertainment</td>\n",
       "      <td>94</td>\n",
       "      <td>Camera, Contacts, Storage, Location</td>\n",
       "      <td>4</td>\n",
       "      <td>Medium</td>\n",
       "    </tr>\n",
       "    <tr>\n",
       "      <th>9</th>\n",
       "      <td>Google Drive</td>\n",
       "      <td>Productivity</td>\n",
       "      <td>252</td>\n",
       "      <td>Contacts, Location, Microphone, Storage, Camera</td>\n",
       "      <td>5</td>\n",
       "      <td>High</td>\n",
       "    </tr>\n",
       "  </tbody>\n",
       "</table>\n",
       "</div>"
      ],
      "text/plain": [
       "       App Name       Category  Time Spent (mins)  \\\n",
       "0      WhatsApp         Social                167   \n",
       "1       YouTube  Entertainment                199   \n",
       "2     Instagram         Social                280   \n",
       "3   Google Maps     Navigation                 67   \n",
       "4          Zoom   Productivity                112   \n",
       "5         Gmail   Productivity                184   \n",
       "6        TikTok  Entertainment                264   \n",
       "7      Facebook         Social                 86   \n",
       "8       Spotify  Entertainment                 94   \n",
       "9  Google Drive   Productivity                252   \n",
       "\n",
       "                                  Permissions Used  Permission Count  \\\n",
       "0         Storage, Location, Camera, Contacts, SMS                 5   \n",
       "1         Location, Storage, Contacts, Camera, SMS                 5   \n",
       "2                               Camera, Microphone                 2   \n",
       "3                               Camera, Microphone                 2   \n",
       "4                          SMS, Location, Contacts                 3   \n",
       "5                          Contacts, Location, SMS                 3   \n",
       "6       Camera, Contacts, Storage, SMS, Microphone                 5   \n",
       "7                                    Location, SMS                 2   \n",
       "8              Camera, Contacts, Storage, Location                 4   \n",
       "9  Contacts, Location, Microphone, Storage, Camera                 5   \n",
       "\n",
       "  Privacy Risk Level  \n",
       "0             Medium  \n",
       "1             Medium  \n",
       "2                Low  \n",
       "3                Low  \n",
       "4             Medium  \n",
       "5             Medium  \n",
       "6               High  \n",
       "7                Low  \n",
       "8             Medium  \n",
       "9               High  "
      ]
     },
     "execution_count": 13,
     "metadata": {},
     "output_type": "execute_result"
    }
   ],
   "source": [
    "df['Permission Count'] = df['Permissions Used'].apply(lambda x: len(x.split(', ')))\n",
    "\n",
    "def get_risk_level(row):\n",
    "    if row['Permission Count'] >= 4 and row['Time Spent (mins)'] > 200:\n",
    "        return 'High'\n",
    "    elif row['Permission Count'] >= 3:\n",
    "        return 'Medium'\n",
    "    else:\n",
    "        return 'Low'\n",
    "\n",
    "df['Privacy Risk Level'] = df.apply(get_risk_level, axis=1)\n",
    "df\n"
   ]
  },
  {
   "cell_type": "code",
   "execution_count": 14,
   "id": "ff0bee80-e94b-44bc-aac1-14139907a184",
   "metadata": {},
   "outputs": [
    {
     "data": {
      "image/png": "[encoded data removed]",
      "text/plain": [
       "<Figure size 1000x600 with 1 Axes>"
      ]
     },
     "metadata": {},
     "output_type": "display_data"
    }
   ],
   "source": [
    "plt.figure(figsize=(10,6))\n",
    "plt.bar(df['App Name'], df['Time Spent (mins)'], color='lightgreen')\n",
    "plt.title('Time Spent on Each App')\n",
    "plt.xlabel('App Name')\n",
    "plt.ylabel('Minutes')\n",
    "plt.xticks(rotation=45)\n",
    "plt.tight_layout()\n",
    "plt.show()\n"
   ]
  },
  {
   "cell_type": "code",
   "execution_count": 17,
   "id": "026ea449-e595-4194-870b-4832675abed7",
   "metadata": {},
   "outputs": [
    {
     "data": {
      "image/png": "[encoded data removed]",
      "text/plain": [
       "<Figure size 600x600 with 1 Axes>"
      ]
     },
     "metadata": {},
     "output_type": "display_data"
    },
    {
     "data": {
      "application/vnd.plotly.v1+json": {
       "config": {
        "plotlyServerURL": "https://plot.ly"
       },
       "data": [
        {
         "customdata": [
          [
           "WhatsApp",
           "Storage, Location, Camera, Contacts, SMS"
          ],
          [
           "YouTube",
           "Location, Storage, Contacts, Camera, SMS"
          ],
          [
           "Zoom",
           "SMS, Location, Contacts"
          ],
          [
           "Gmail",
           "Contacts, Location, SMS"
          ],
          [
           "Spotify",
           "Camera, Contacts, Storage, Location"
          ]
         ],
         "hovertemplate": "Privacy Risk Level=Medium<br>Permission Count=%{marker.size}<br>Time Spent (mins)=%{y}<br>App Name=%{customdata[0]}<br>Permissions Used=%{customdata[1]}<extra></extra>",
         "legendgroup": "Medium",
         "marker": {
          "color": "#636efa",
          "size": {
           "bdata": "BQUDAwQ=",
           "dtype": "i1"
          },
          "sizemode": "area",
          "sizeref": 0.0125,
          "symbol": "circle"
         },
         "mode": "markers",
         "name": "Medium",
         "orientation": "v",
         "showlegend": true,
         "type": "scatter",
         "x": {
          "bdata": "BQUDAwQ=",
          "dtype": "i1"
         },
         "xaxis": "x",
         "y": {
          "bdata": "pwDHAHAAuABeAA==",
          "dtype": "i2"
         },
         "yaxis": "y"
        },
        {
         "customdata": [
          [
           "Instagram",
           "Camera, Microphone"
          ],
          [
           "Google Maps",
           "Camera, Microphone"
          ],
          [
           "Facebook",
           "Location, SMS"
          ]
         ],
         "hovertemplate": "Privacy Risk Level=Low<br>Permission Count=%{marker.size}<br>Time Spent (mins)=%{y}<br>App Name=%{customdata[0]}<br>Permissions Used=%{customdata[1]}<extra></extra>",
         "legendgroup": "Low",
         "marker": {
          "color": "#EF553B",
          "size": {
           "bdata": "AgIC",
           "dtype": "i1"
          },
          "sizemode": "area",
          "sizeref": 0.0125,
          "symbol": "circle"
         },
         "mode": "markers",
         "name": "Low",
         "orientation": "v",
         "showlegend": true,
         "type": "scatter",
         "x": {
          "bdata": "AgIC",
          "dtype": "i1"
         },
         "xaxis": "x",
         "y": {
          "bdata": "GAFDAFYA",
          "dtype": "i2"
         },
         "yaxis": "y"
        },
        {
         "customdata": [
          [
           "TikTok",
           "Camera, Contacts, Storage, SMS, Microphone"
          ],
          [
           "Google Drive",
           "Contacts, Location, Microphone, Storage, Camera"
          ]
         ],
         "hovertemplate": "Privacy Risk Level=High<br>Permission Count=%{marker.size}<br>Time Spent (mins)=%{y}<br>App Name=%{customdata[0]}<br>Permissions Used=%{customdata[1]}<extra></extra>",
         "legendgroup": "High",
         "marker": {
          "color": "#00cc96",
          "size": {
           "bdata": "BQU=",
           "dtype": "i1"
          },
          "sizemode": "area",
          "sizeref": 0.0125,
          "symbol": "circle"
         },
         "mode": "markers",
         "name": "High",
         "orientation": "v",
         "showlegend": true,
         "type": "scatter",
         "x": {
          "bdata": "BQU=",
          "dtype": "i1"
         },
         "xaxis": "x",
         "y": {
          "bdata": "CAH8AA==",
          "dtype": "i2"
         },
         "yaxis": "y"
        }
       ],
       "layout": {
        "legend": {
         "itemsizing": "constant",
         "title": {
          "text": "Privacy Risk Level"
         },
         "tracegroupgap": 0
        },
        "margin": {
         "t": 60
        },
        "template": {
         "data": {
          "bar": [
           {
            "error_x": {
             "color": "#2a3f5f"
            },
            "error_y": {
             "color": "#2a3f5f"
            },
            "marker": {
             "line": {
              "color": "#E5ECF6",
              "width": 0.5
             },
             "pattern": {
              "fillmode": "overlay",
              "size": 10,
              "solidity": 0.2
             }
            },
            "type": "bar"
           }
          ],
          "barpolar": [
           {
            "marker": {
             "line": {
              "color": "#E5ECF6",
              "width": 0.5
             },
             "pattern": {
              "fillmode": "overlay",
              "size": 10,
              "solidity": 0.2
             }
            },
            "type": "barpolar"
           }
          ],
          "carpet": [
           {
            "aaxis": {
             "endlinecolor": "#2a3f5f",
             "gridcolor": "white",
             "linecolor": "white",
             "minorgridcolor": "white",
             "startlinecolor": "#2a3f5f"
            },
            "baxis": {
             "endlinecolor": "#2a3f5f",
             "gridcolor": "white",
             "linecolor": "white",
             "minorgridcolor": "white",
             "startlinecolor": "#2a3f5f"
            },
            "type": "carpet"
           }
          ],
          "choropleth": [
           {
            "colorbar": {
             "outlinewidth": 0,
             "ticks": ""
            },
            "type": "choropleth"
           }
          ],
          "contour": [
           {
            "colorbar": {
             "outlinewidth": 0,
             "ticks": ""
            },
            "colorscale": [
             [
              0,
              "#0d0887"
             ],
             [
              0.1111111111111111,
              "#46039f"
             ],
             [
              0.2222222222222222,
              "#7201a8"
             ],
             [
              0.3333333333333333,
              "#9c179e"
             ],
             [
              0.4444444444444444,
              "#bd3786"
             ],
             [
              0.5555555555555556,
              "#d8576b"
             ],
             [
              0.6666666666666666,
              "#ed7953"
             ],
             [
              0.7777777777777778,
              "#fb9f3a"
             ],
             [
              0.8888888888888888,
              "#fdca26"
             ],
             [
              1,
              "#f0f921"
             ]
            ],
            "type": "contour"
           }
          ],
          "contourcarpet": [
           {
            "colorbar": {
             "outlinewidth": 0,
             "ticks": ""
            },
            "type": "contourcarpet"
           }
          ],
          "heatmap": [
           {
            "colorbar": {
             "outlinewidth": 0,
             "ticks": ""
            },
            "colorscale": [
             [
              0,
              "#0d0887"
             ],
             [
              0.1111111111111111,
              "#46039f"
             ],
             [
              0.2222222222222222,
              "#7201a8"
             ],
             [
              0.3333333333333333,
              "#9c179e"
             ],
             [
              0.4444444444444444,
              "#bd3786"
             ],
             [
              0.5555555555555556,
              "#d8576b"
             ],
             [
              0.6666666666666666,
              "#ed7953"
             ],
             [
              0.7777777777777778,
              "#fb9f3a"
             ],
             [
              0.8888888888888888,
              "#fdca26"
             ],
             [
              1,
              "#f0f921"
             ]
            ],
            "type": "heatmap"
           }
          ],
          "histogram": [
           {
            "marker": {
             "pattern": {
              "fillmode": "overlay",
              "size": 10,
              "solidity": 0.2
             }
            },
            "type": "histogram"
           }
          ],
          "histogram2d": [
           {
            "colorbar": {
             "outlinewidth": 0,
             "ticks": ""
            },
            "colorscale": [
             [
              0,
              "#0d0887"
             ],
             [
              0.1111111111111111,
              "#46039f"
             ],
             [
              0.2222222222222222,
              "#7201a8"
             ],
             [
              0.3333333333333333,
              "#9c179e"
             ],
             [
              0.4444444444444444,
              "#bd3786"
             ],
             [
              0.5555555555555556,
              "#d8576b"
             ],
             [
              0.6666666666666666,
              "#ed7953"
             ],
             [
              0.7777777777777778,
              "#fb9f3a"
             ],
             [
              0.8888888888888888,
              "#fdca26"
             ],
             [
              1,
              "#f0f921"
             ]
            ],
            "type": "histogram2d"
           }
          ],
          "histogram2dcontour": [
           {
            "colorbar": {
             "outlinewidth": 0,
             "ticks": ""
            },
            "colorscale": [
             [
              0,
              "#0d0887"
             ],
             [
              0.1111111111111111,
              "#46039f"
             ],
             [
              0.2222222222222222,
              "#7201a8"
             ],
             [
              0.3333333333333333,
              "#9c179e"
             ],
             [
              0.4444444444444444,
              "#bd3786"
             ],
             [
              0.5555555555555556,
              "#d8576b"
             ],
             [
              0.6666666666666666,
              "#ed7953"
             ],
             [
              0.7777777777777778,
              "#fb9f3a"
             ],
             [
              0.8888888888888888,
              "#fdca26"
             ],
             [
              1,
              "#f0f921"
             ]
            ],
            "type": "histogram2dcontour"
           }
          ],
          "mesh3d": [
           {
            "colorbar": {
             "outlinewidth": 0,
             "ticks": ""
            },
            "type": "mesh3d"
           }
          ],
          "parcoords": [
           {
            "line": {
             "colorbar": {
              "outlinewidth": 0,
              "ticks": ""
             }
            },
            "type": "parcoords"
           }
          ],
          "pie": [
           {
            "automargin": true,
            "type": "pie"
           }
          ],
          "scatter": [
           {
            "fillpattern": {
             "fillmode": "overlay",
             "size": 10,
             "solidity": 0.2
            },
            "type": "scatter"
           }
          ],
          "scatter3d": [
           {
            "line": {
             "colorbar": {
              "outlinewidth": 0,
              "ticks": ""
             }
            },
            "marker": {
             "colorbar": {
              "outlinewidth": 0,
              "ticks": ""
             }
            },
            "type": "scatter3d"
           }
          ],
          "scattercarpet": [
           {
            "marker": {
             "colorbar": {
              "outlinewidth": 0,
              "ticks": ""
             }
            },
            "type": "scattercarpet"
           }
          ],
          "scattergeo": [
           {
            "marker": {
             "colorbar": {
              "outlinewidth": 0,
              "ticks": ""
             }
            },
            "type": "scattergeo"
           }
          ],
          "scattergl": [
           {
            "marker": {
             "colorbar": {
              "outlinewidth": 0,
              "ticks": ""
             }
            },
            "type": "scattergl"
           }
          ],
          "scattermap": [
           {
            "marker": {
             "colorbar": {
              "outlinewidth": 0,
              "ticks": ""
             }
            },
            "type": "scattermap"
           }
          ],
          "scattermapbox": [
           {
            "marker": {
             "colorbar": {
              "outlinewidth": 0,
              "ticks": ""
             }
            },
            "type": "scattermapbox"
           }
          ],
          "scatterpolar": [
           {
            "marker": {
             "colorbar": {
              "outlinewidth": 0,
              "ticks": ""
             }
            },
            "type": "scatterpolar"
           }
          ],
          "scatterpolargl": [
           {
            "marker": {
             "colorbar": {
              "outlinewidth": 0,
              "ticks": ""
             }
            },
            "type": "scatterpolargl"
           }
          ],
          "scatterternary": [
           {
            "marker": {
             "colorbar": {
              "outlinewidth": 0,
              "ticks": ""
             }
            },
            "type": "scatterternary"
           }
          ],
          "surface": [
           {
            "colorbar": {
             "outlinewidth": 0,
             "ticks": ""
            },
            "colorscale": [
             [
              0,
              "#0d0887"
             ],
             [
              0.1111111111111111,
              "#46039f"
             ],
             [
              0.2222222222222222,
              "#7201a8"
             ],
             [
              0.3333333333333333,
              "#9c179e"
             ],
             [
              0.4444444444444444,
              "#bd3786"
             ],
             [
              0.5555555555555556,
              "#d8576b"
             ],
             [
              0.6666666666666666,
              "#ed7953"
             ],
             [
              0.7777777777777778,
              "#fb9f3a"
             ],
             [
              0.8888888888888888,
              "#fdca26"
             ],
             [
              1,
              "#f0f921"
             ]
            ],
            "type": "surface"
           }
          ],
          "table": [
           {
            "cells": {
             "fill": {
              "color": "#EBF0F8"
             },
             "line": {
              "color": "white"
             }
            },
            "header": {
             "fill": {
              "color": "#C8D4E3"
             },
             "line": {
              "color": "white"
             }
            },
            "type": "table"
           }
          ]
         },
         "layout": {
          "annotationdefaults": {
           "arrowcolor": "#2a3f5f",
           "arrowhead": 0,
           "arrowwidth": 1
          },
          "autotypenumbers": "strict",
          "coloraxis": {
           "colorbar": {
            "outlinewidth": 0,
            "ticks": ""
           }
          },
          "colorscale": {
           "diverging": [
            [
             0,
             "#8e0152"
            ],
            [
             0.1,
             "#c51b7d"
            ],
            [
             0.2,
             "#de77ae"
            ],
            [
             0.3,
             "#f1b6da"
            ],
            [
             0.4,
             "#fde0ef"
            ],
            [
             0.5,
             "#f7f7f7"
            ],
            [
             0.6,
             "#e6f5d0"
            ],
            [
             0.7,
             "#b8e186"
            ],
            [
             0.8,
             "#7fbc41"
            ],
            [
             0.9,
             "#4d9221"
            ],
            [
             1,
             "#276419"
            ]
           ],
           "sequential": [
            [
             0,
             "#0d0887"
            ],
            [
             0.1111111111111111,
             "#46039f"
            ],
            [
             0.2222222222222222,
             "#7201a8"
            ],
            [
             0.3333333333333333,
             "#9c179e"
            ],
            [
             0.4444444444444444,
             "#bd3786"
            ],
            [
             0.5555555555555556,
             "#d8576b"
            ],
            [
             0.6666666666666666,
             "#ed7953"
            ],
            [
             0.7777777777777778,
             "#fb9f3a"
            ],
            [
             0.8888888888888888,
             "#fdca26"
            ],
            [
             1,
             "#f0f921"
            ]
           ],
           "sequentialminus": [
            [
             0,
             "#0d0887"
            ],
            [
             0.1111111111111111,
             "#46039f"
            ],
            [
             0.2222222222222222,
             "#7201a8"
            ],
            [
             0.3333333333333333,
             "#9c179e"
            ],
            [
             0.4444444444444444,
             "#bd3786"
            ],
            [
             0.5555555555555556,
             "#d8576b"
            ],
            [
             0.6666666666666666,
             "#ed7953"
            ],
            [
             0.7777777777777778,
             "#fb9f3a"
            ],
            [
             0.8888888888888888,
             "#fdca26"
            ],
            [
             1,
             "#f0f921"
            ]
           ]
          },
          "colorway": [
           "#636efa",
           "#EF553B",
           "#00cc96",
           "#ab63fa",
           "#FFA15A",
           "#19d3f3",
           "#FF6692",
           "#B6E880",
           "#FF97FF",
           "#FECB52"
          ],
          "font": {
           "color": "#2a3f5f"
          },
          "geo": {
           "bgcolor": "white",
           "lakecolor": "white",
           "landcolor": "#E5ECF6",
           "showlakes": true,
           "showland": true,
           "subunitcolor": "white"
          },
          "hoverlabel": {
           "align": "left"
          },
          "hovermode": "closest",
          "mapbox": {
           "style": "light"
          },
          "paper_bgcolor": "white",
          "plot_bgcolor": "#E5ECF6",
          "polar": {
           "angularaxis": {
            "gridcolor": "white",
            "linecolor": "white",
            "ticks": ""
           },
           "bgcolor": "#E5ECF6",
           "radialaxis": {
            "gridcolor": "white",
            "linecolor": "white",
            "ticks": ""
           }
          },
          "scene": {
           "xaxis": {
            "backgroundcolor": "#E5ECF6",
            "gridcolor": "white",
            "gridwidth": 2,
            "linecolor": "white",
            "showbackground": true,
            "ticks": "",
            "zerolinecolor": "white"
           },
           "yaxis": {
            "backgroundcolor": "#E5ECF6",
            "gridcolor": "white",
            "gridwidth": 2,
            "linecolor": "white",
            "showbackground": true,
            "ticks": "",
            "zerolinecolor": "white"
           },
           "zaxis": {
            "backgroundcolor": "#E5ECF6",
            "gridcolor": "white",
            "gridwidth": 2,
            "linecolor": "white",
            "showbackground": true,
            "ticks": "",
            "zerolinecolor": "white"
           }
          },
          "shapedefaults": {
           "line": {
            "color": "#2a3f5f"
           }
          },
          "ternary": {
           "aaxis": {
            "gridcolor": "white",
            "linecolor": "white",
            "ticks": ""
           },
           "baxis": {
            "gridcolor": "white",
            "linecolor": "white",
            "ticks": ""
           },
           "bgcolor": "#E5ECF6",
           "caxis": {
            "gridcolor": "white",
            "linecolor": "white",
            "ticks": ""
           }
          },
          "title": {
           "x": 0.05
          },
          "xaxis": {
           "automargin": true,
           "gridcolor": "white",
           "linecolor": "white",
           "ticks": "",
           "title": {
            "standoff": 15
           },
           "zerolinecolor": "white",
           "zerolinewidth": 2
          },
          "yaxis": {
           "automargin": true,
           "gridcolor": "white",
           "linecolor": "white",
           "ticks": "",
           "title": {
            "standoff": 15
           },
           "zerolinecolor": "white",
           "zerolinewidth": 2
          }
         }
        },
        "title": {
         "text": "Privacy Risk vs App Usage"
        },
        "xaxis": {
         "anchor": "y",
         "domain": [
          0,
          1
         ],
         "title": {
          "text": "Permission Count"
         }
        },
        "yaxis": {
         "anchor": "x",
         "domain": [
          0,
          1
         ],
         "title": {
          "text": "Time Spent (mins)"
         }
        }
       }
      },
      "image/png": "[encoded data removed]"
     },
     "metadata": {},
     "output_type": "display_data"
    }
   ],
   "source": [
    "category_data = df.groupby('Category')['Time Spent (mins)'].sum()\n",
    "category_data.plot(kind='pie', autopct='%1.1f%%', startangle=140, figsize=(6,6), colormap='Pastel1')\n",
    "plt.title('App Usage by Category')\n",
    "plt.ylabel('')\n",
    "plt.tight_layout()\n",
    "plt.show()\n",
    "\n",
    "fig = px.scatter(df, x='Permission Count', y='Time Spent (mins)', color='Privacy Risk Level',\n",
    "                 size='Permission Count', hover_data=['App Name', 'Permissions Used'])\n",
    "fig.update_layout(title='Privacy Risk vs App Usage')\n",
    "fig.show()\n"
   ]
  },
  {
   "cell_type": "code",
   "execution_count": 18,
   "id": "00142167-29a9-4cad-b320-fec95a73f83a",
   "metadata": {},
   "outputs": [
    {
     "name": "stdout",
     "output_type": "stream",
     "text": [
      "Final App Usage and Privacy Risk Data:\n",
      "\n",
      "       App Name       Category  Time Spent (mins)  \\\n",
      "0      WhatsApp         Social                167   \n",
      "1       YouTube  Entertainment                199   \n",
      "2     Instagram         Social                280   \n",
      "3   Google Maps     Navigation                 67   \n",
      "4          Zoom   Productivity                112   \n",
      "5         Gmail   Productivity                184   \n",
      "6        TikTok  Entertainment                264   \n",
      "7      Facebook         Social                 86   \n",
      "8       Spotify  Entertainment                 94   \n",
      "9  Google Drive   Productivity                252   \n",
      "\n",
      "                                  Permissions Used  Permission Count  \\\n",
      "0         Storage, Location, Camera, Contacts, SMS                 5   \n",
      "1         Location, Storage, Contacts, Camera, SMS                 5   \n",
      "2                               Camera, Microphone                 2   \n",
      "3                               Camera, Microphone                 2   \n",
      "4                          SMS, Location, Contacts                 3   \n",
      "5                          Contacts, Location, SMS                 3   \n",
      "6       Camera, Contacts, Storage, SMS, Microphone                 5   \n",
      "7                                    Location, SMS                 2   \n",
      "8              Camera, Contacts, Storage, Location                 4   \n",
      "9  Contacts, Location, Microphone, Storage, Camera                 5   \n",
      "\n",
      "  Privacy Risk Level  \n",
      "0             Medium  \n",
      "1             Medium  \n",
      "2                Low  \n",
      "3                Low  \n",
      "4             Medium  \n",
      "5             Medium  \n",
      "6               High  \n",
      "7                Low  \n",
      "8             Medium  \n",
      "9               High  \n"
     ]
    }
   ],
   "source": [
    "print(\"Final App Usage and Privacy Risk Data:\\n\")\n",
    "print(df)\n"
   ]
  }
 ],
 "metadata": {
  "kernelspec": {
   "display_name": "Python 3 (ipykernel)",
   "language": "python",
   "name": "python3"
  },
  "language_info": {
   "codemirror_mode": {
    "name": "ipython",
    "version": 3
   },
   "file_extension": ".py",
   "mimetype": "text/x-python",
   "name": "python",
   "nbconvert_exporter": "python",
   "pygments_lexer": "ipython3",
   "version": "3.10.11"
  }
 },
 "nbformat": 4,
 "nbformat_minor": 5
}
